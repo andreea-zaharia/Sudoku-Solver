{
 "cells": [
  {
   "cell_type": "markdown",
   "metadata": {},
   "source": [
    "### Sudoku Solver"
   ]
  },
  {
   "cell_type": "code",
   "execution_count": 29,
   "metadata": {},
   "outputs": [
    {
     "name": "stdout",
     "output_type": "stream",
     "text": [
      "Overwriting sudoku-solver.lp\n"
     ]
    }
   ],
   "source": [
    "%%file sudoku-solver.lp\n",
    "\n",
    "% number object\n",
    "number(1..9).\n",
    "\n",
    "% position object\n",
    "position(0..8).\n",
    "\n",
    "% grid object\n",
    "grid(X, Y) :- position(X), position(Y).\n",
    "    \n",
    "% setting cell values\n",
    "1 {square(X,Y,N) : number(N)} 1:- grid(X,Y).\n",
    "\n",
    "% initial state\n",
    "square(0, 0, 8).\n",
    "square(0, 1, 3).\n",
    "square(0, 3, 1).\n",
    "square(0, 6, 6).\n",
    "square(0, 8, 5).\n",
    "square(1, 7, 8).\n",
    "square(3, 1, 5).\n",
    "square(3, 4, 1).\n",
    "square(3, 5, 7).\n",
    "square(4, 2, 3).\n",
    "square(4, 6, 2).\n",
    "square(5, 3, 3).\n",
    "square(5, 4, 4).\n",
    "square(5, 7, 1).\n",
    "square(6, 2, 4).\n",
    "square(6, 5, 8).\n",
    "square(7, 1, 9).\n",
    "square(8, 0, 3).\n",
    "square(8, 2, 2).\n",
    "square(8, 5, 6).\n",
    "square(8, 7, 4).\n",
    "square(8, 8, 7).\n",
    "    \n",
    "Y1 == Y2 :- square(X, Y1, N), square(X, Y2, N), X = 0..8, Y1 = 0..8, N = 1..9, Y2 = 0..8. %rule for no two in the same row\n",
    "X1 == X2 :- square(X1, Y, N), square(X2, Y, N), X1 = 0..8, X2 = 0..8, N = 1..9. %rule for no two in the same column   \n",
    "\n",
    "%rules for 3x3 cells\n",
    "X1 == X2, Y1 == Y2 :- square(X1, Y1, N1), square(X2, Y2, N2), N1 == N2, X1 = 0..2, Y1 = 0..2, X2 = 0..2, Y2 = 0..2. \n",
    "X1 == X2, Y1 == Y2 :- square(X1, Y1, N1), square(X2, Y2, N2), N1 == N2, X1 = 0..2, Y1 = 3..5, X2 = 0..2, Y2 = 3..5.\n",
    "X1 == X2, Y1 == Y2 :- square(X1, Y1, N1), square(X2, Y2, N2), N1 == N2, X1 = 0..2, Y1 = 6..8, X2 = 0..2, Y2 = 6..8.\n",
    "    \n",
    "X1 == X2, Y1 == Y2 :- square(X1, Y1, N1), square(X2, Y2, N2), N1 == N2, X1 = 3..5, Y1 = 0..2, X2 = 3..5, Y2 = 0..2.\n",
    "X1 == X2, Y1 == Y2 :- square(X1, Y1, N1), square(X2, Y2, N2), N1 == N2, X1 = 3..5, Y1 = 3..5, X2 = 3..5, Y2 = 3..5.\n",
    "X1 == X2, Y1 == Y2 :- square(X1, Y1, N1), square(X2, Y2, N2), N1 == N2, X1 = 3..5, Y1 = 6..8, X2 = 3..5, Y2 = 6..8.  \n",
    "    \n",
    "X1 == X2, Y1 == Y2 :- square(X1, Y1, N1), square(X2, Y2, N2), N1 == N2, X1 = 6..8, Y1 = 0..2, X2 = 6..8, Y2 = 0..2.\n",
    "X1 == X2, Y1 == Y2 :- square(X1, Y1, N1), square(X2, Y2, N2), N1 == N2, X1 = 6..8, Y1 = 3..5, X2 = 6..8, Y2 = 3..5.\n",
    "X1 == X2, Y1 == Y2 :- square(X1, Y1, N1), square(X2, Y2, N2), N1 == N2, X1 = 6..8, Y1 = 6..8, X2 = 6..8, Y2 = 6..8.       \n",
    "        \n",
    "        "
   ]
  },
  {
   "cell_type": "code",
   "execution_count": 30,
   "metadata": {},
   "outputs": [
    {
     "name": "stdout",
     "output_type": "stream",
     "text": [
      "clingo version 5.2.0\r\n",
      "Reading from sudoku-solver.lp\r\n",
      "Solving...\r\n",
      "Answer: 1\r\n",
      "number(1) number(2) number(3) number(4) number(5) number(6) number(7) number(8) number(9) position(0) position(1) position(2) position(3) position(4) position(5) position(6) position(7) position(8) grid(0,0) grid(1,0) grid(2,0) grid(3,0) grid(4,0) grid(5,0) grid(6,0) grid(7,0) grid(8,0) grid(0,1) grid(1,1) grid(2,1) grid(3,1) grid(4,1) grid(5,1) grid(6,1) grid(7,1) grid(8,1) grid(0,2) grid(1,2) grid(2,2) grid(3,2) grid(4,2) grid(5,2) grid(6,2) grid(7,2) grid(8,2) grid(0,3) grid(1,3) grid(2,3) grid(3,3) grid(4,3) grid(5,3) grid(6,3) grid(7,3) grid(8,3) grid(0,4) grid(1,4) grid(2,4) grid(3,4) grid(4,4) grid(5,4) grid(6,4) grid(7,4) grid(8,4) grid(0,5) grid(1,5) grid(2,5) grid(3,5) grid(4,5) grid(5,5) grid(6,5) grid(7,5) grid(8,5) grid(0,6) grid(1,6) grid(2,6) grid(3,6) grid(4,6) grid(5,6) grid(6,6) grid(7,6) grid(8,6) grid(0,7) grid(1,7) grid(2,7) grid(3,7) grid(4,7) grid(5,7) grid(6,7) grid(7,7) grid(8,7) grid(0,8) grid(1,8) grid(2,8) grid(3,8) grid(4,8) grid(5,8) grid(6,8) grid(7,8) grid(8,8) square(0,0,8) square(0,1,3) square(0,3,1) square(0,6,6) square(0,8,5) square(1,7,8) square(3,1,5) square(3,4,1) square(3,5,7) square(4,2,3) square(4,6,2) square(5,3,3) square(5,4,4) square(5,7,1) square(6,2,4) square(6,5,8) square(7,1,9) square(8,0,3) square(8,2,2) square(8,5,6) square(8,7,4) square(8,8,7) square(0,7,2) square(0,5,4) square(0,4,7) square(0,2,9) square(1,8,1) square(1,1,2) square(1,5,3) square(1,0,4) square(1,3,5) square(1,4,6) square(1,2,7) square(1,6,9) square(2,2,1) square(2,3,2) square(2,7,3) square(2,8,4) square(2,0,5) square(2,1,6) square(2,6,7) square(2,4,8) square(2,5,9) square(3,0,2) square(3,8,3) square(3,6,4) square(3,2,6) square(3,3,8) square(3,7,9) square(4,0,1) square(4,1,4) square(4,5,5) square(4,3,6) square(4,7,7) square(4,8,8) square(4,4,9) square(5,5,2) square(5,6,5) square(5,8,6) square(5,1,7) square(5,2,8) square(5,0,9) square(6,1,1) square(6,4,2) square(6,6,3) square(6,7,5) square(6,0,6) square(6,3,7) square(6,8,9) square(7,5,1) square(7,8,2) square(7,4,3) square(7,3,4) square(7,2,5) square(7,7,6) square(7,0,7) square(7,6,8) square(8,6,1) square(8,4,5) square(8,1,8) square(8,3,9)\r\n",
      "SATISFIABLE\r\n",
      "\r\n",
      "Models       : 1+\r\n",
      "Calls        : 1\r\n",
      "Time         : 0.042s (Solving: 0.00s 1st Model: 0.00s Unsat: 0.00s)\r\n",
      "CPU Time     : 0.041s\r\n"
     ]
    }
   ],
   "source": [
    "!./clingo sudoku-solver.lp"
   ]
  },
  {
   "cell_type": "code",
   "execution_count": null,
   "metadata": {
    "collapsed": true
   },
   "outputs": [],
   "source": []
  }
 ],
 "metadata": {
  "kernelspec": {
   "display_name": "Python 3",
   "language": "python",
   "name": "python3"
  },
  "language_info": {
   "codemirror_mode": {
    "name": "ipython",
    "version": 3
   },
   "file_extension": ".py",
   "mimetype": "text/x-python",
   "name": "python",
   "nbconvert_exporter": "python",
   "pygments_lexer": "ipython3",
   "version": "3.6.1"
  }
 },
 "nbformat": 4,
 "nbformat_minor": 2
}
